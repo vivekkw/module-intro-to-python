{
 "cells": [
  {
   "cell_type": "markdown",
   "metadata": {
    "ein.tags": "worksheet-0",
    "slideshow": {
     "slide_type": "slide"
    }
   },
   "source": [
    "# Introduction to programming with Python"
   ]
  },
  {
   "cell_type": "markdown",
   "metadata": {
    "ein.tags": "worksheet-0",
    "slideshow": {
     "slide_type": "slide"
    }
   },
   "source": [
    "## Python brief history \n",
    "\n",
    "Created in 1989 by Guido Van Rossum - Monty Python fan hence the name and the jokes!\n",
    "\n",
    "+ Currently there are two versions available\n",
    "  + 2.7.x (2010)\n",
    "  + 3.7.x (2018)\n",
    "\n",
    "+ Python 2.7 will be supported until 2020, but users are\n",
    "  encouraged to move to Python 3 as soon as possible "
   ]
  },
  {
   "cell_type": "markdown",
   "metadata": {
    "ein.tags": "worksheet-0",
    "slideshow": {
     "slide_type": "-"
    }
   },
   "source": [
    "## The Zen of Python, by Tim Peters\n",
    "\n",
    "Beautiful is better than ugly.  \n",
    "Explicit is better than implicit.  \n",
    "Simple is better than complex.  \n",
    "Complex is better than complicated.  \n",
    "Flat is better than nested.  \n",
    "Sparse is better than dense.  \n",
    "Readability counts.  \n",
    "Special cases aren't special enough to break the rules.  \n",
    "Although practicality beats purity.  \n",
    "Errors should never pass silently.  \n",
    "Unless explicitly silenced.  \n",
    "In the face of ambiguity, refuse the temptation to guess.  \n",
    "There should be one-- and preferably only one --obvious way to do it.  \n",
    "Although that way may not be obvious at first unless you're Dutch.  \n",
    "Now is better than never.  \n",
    "Although never is often better than *right* now.  \n",
    "If the implementation is hard to explain, it's a bad idea.  \n",
    "If the implementation is easy to explain, it may be a good idea.  \n",
    "Namespaces are one honking great idea -- let's do more of those!  "
   ]
  },
  {
   "cell_type": "markdown",
   "metadata": {
    "ein.tags": "worksheet-0",
    "slideshow": {
     "slide_type": "slide"
    }
   },
   "source": [
    "## Working with Jupyter notebook \n",
    "\n",
    "+ Edit cells\n",
    "+ Command completion and help\n",
    "+ Type of cells\n",
    "+ Executing cells (ctrl+enter, shift+enter)\n",
    "+ Command mode vs Edit mode (esc, enter)\n",
    "+ Inserting new cells above and below (a,b)\n",
    "+ Deleting cells (d d)\n",
    "+ Saving"
   ]
  },
  {
   "cell_type": "markdown",
   "metadata": {
    "ein.tags": "worksheet-0",
    "slideshow": {
     "slide_type": "slide"
    }
   },
   "source": [
    "## Data types and Variables\n",
    "\n",
    "\n",
    "Variables in Python hide what is inside of them. It is _extremely_ important that, whenever you are working with variables, you have in mind what TYPE of thing the variable holds. One way to help yourself is to use helpful names with variables (hint: don't use \"x\"!).\n",
    "\n",
    "You can check the type of a variable with the built-in \"type\" function: \n",
    "\n",
    "```python\n",
    "x = 5\n",
    "type(x)\n",
    "```\n",
    "\n",
    "Use this to check the type of all the variables in the cells below (NOTE: Jupyter will automatically display the value of the last expression evaluated in the cell): "
   ]
  },
  {
   "cell_type": "code",
   "execution_count": 2,
   "metadata": {
    "autoscroll": false,
    "ein.hycell": false,
    "ein.tags": "worksheet-0",
    "slideshow": {
     "slide_type": "skip"
    }
   },
   "outputs": [],
   "source": [
    "# Numbers\n",
    "\n",
    "x = 3\n",
    "y = 3.2"
   ]
  },
  {
   "cell_type": "code",
   "execution_count": 4,
   "metadata": {
    "autoscroll": false,
    "ein.hycell": false,
    "ein.tags": "worksheet-0",
    "slideshow": {
     "slide_type": "-"
    }
   },
   "outputs": [],
   "source": [
    "# Strings are written between with double quotes (\"\") or single quotes ('')\n",
    "\n",
    "x = \"om\" \n",
    "y = 'om'"
   ]
  },
  {
   "cell_type": "code",
   "execution_count": 5,
   "metadata": {
    "autoscroll": false,
    "ein.hycell": false,
    "ein.tags": "worksheet-0",
    "slideshow": {
     "slide_type": "-"
    }
   },
   "outputs": [],
   "source": [
    "# Boolean\n",
    "\n",
    "x = True  \n",
    "x = False "
   ]
  },
  {
   "cell_type": "code",
   "execution_count": null,
   "metadata": {
    "autoscroll": false,
    "ein.hycell": false,
    "ein.tags": "worksheet-0",
    "slideshow": {
     "slide_type": "-"
    }
   },
   "outputs": [],
   "source": [
    "# Null value in Python is a NoneType, written as \"None\"\n",
    "\n",
    "x = None"
   ]
  },
  {
   "cell_type": "markdown",
   "metadata": {
    "ein.tags": "worksheet-0",
    "slideshow": {
     "slide_type": "-"
    }
   },
   "source": [
    "## Basic operations with numerical data\n",
    "\n",
    "\n",
    "\n",
    "```python\n",
    "# Assignment\n",
    "a = 10      # 10\n",
    "\n",
    "# Increment/Decrement\n",
    "a += 1      # 11\n",
    "a -= 1      # 10\n",
    "\n",
    "# Operations\n",
    "b = a + 1   # 11\n",
    "c = a - 1   # 9\n",
    "\n",
    "d = a * 2   # 20\n",
    "e = a / 2   # 5\n",
    "f = a % 3   # 1   (modulo or integer remainder) \n",
    "g = a ** 2  # 100 (a to the power of 2)\n",
    "\n",
    "# Operations with other variables\n",
    "d = a + b   # 21\n",
    "```"
   ]
  },
  {
   "cell_type": "markdown",
   "metadata": {
    "ein.tags": "worksheet-0",
    "slideshow": {
     "slide_type": "-"
    }
   },
   "source": [
    "## Basic operations with strings\n",
    "\n",
    "\n",
    "You can concatenate strings together with the + operator: \n",
    "\n",
    "```python\n",
    "\"Hello\" + \" \" + \"World\"\n",
    "```\n",
    "\n",
    "The built-in function \"len\" can be used to find the length of a string: \n",
    "\n",
    "```python\n",
    "len(\"foo\")\n",
    "```"
   ]
  },
  {
   "cell_type": "markdown",
   "metadata": {
    "ein.tags": "worksheet-0",
    "slideshow": {
     "slide_type": "slide"
    }
   },
   "source": [
    "## Printing\n",
    "\n",
    "It can be useful to \"print\" what we are doing to the screen, this can be done with the built-in \"print\" command\".\n",
    "\n",
    "You might have noticed that Jupyter notebooks automatically displays the value of the last expression in a cell, when you execute it, so you don't need to print that!"
   ]
  },
  {
   "cell_type": "code",
   "execution_count": 6,
   "metadata": {
    "autoscroll": false,
    "ein.hycell": false,
    "ein.tags": "worksheet-0",
    "slideshow": {
     "slide_type": "-"
    }
   },
   "outputs": [
    {
     "name": "stdout",
     "output_type": "stream",
     "text": [
      "7.5\n"
     ]
    },
    {
     "data": {
      "text/plain": [
       "True"
      ]
     },
     "execution_count": 6,
     "metadata": {},
     "output_type": "execute_result"
    }
   ],
   "source": [
    "# Printing - note how Jupyter automatically prints \"y\" to \"out\", \n",
    "# but we need to manually print \"x\" if we want to see it!\n",
    "\n",
    "x = 15 / 2\n",
    "print(x)\n",
    "y = x > 2\n",
    "y"
   ]
  },
  {
   "cell_type": "markdown",
   "metadata": {
    "ein.tags": "worksheet-0",
    "slideshow": {
     "slide_type": "slide"
    }
   },
   "source": [
    "## Logical operations\n",
    "\n",
    "We can check the relationships between different types of data in Python\n",
    "\n",
    "The output of such comparisons/operations are boolean variables\n",
    "\n",
    "Lets see some examples "
   ]
  },
  {
   "cell_type": "code",
   "execution_count": 7,
   "metadata": {
    "autoscroll": false,
    "ein.hycell": false,
    "ein.tags": "worksheet-0",
    "slideshow": {
     "slide_type": "-"
    }
   },
   "outputs": [],
   "source": [
    "# Comparing numbers\n",
    "\n",
    "x = 1 >= 2 \n",
    "y = 1 == 2 \n",
    "w = 1 != 2"
   ]
  },
  {
   "cell_type": "code",
   "execution_count": 8,
   "metadata": {
    "autoscroll": false,
    "ein.hycell": false,
    "ein.tags": "worksheet-0",
    "slideshow": {
     "slide_type": "-"
    }
   },
   "outputs": [],
   "source": [
    "# It is canonical to use \"is\" instead of == for checking for NoneType:\n",
    "\n",
    "x = None\n",
    "y = x is None\n",
    "z = x is not None"
   ]
  },
  {
   "cell_type": "code",
   "execution_count": 9,
   "metadata": {
    "autoscroll": false,
    "ein.hycell": false,
    "ein.tags": "worksheet-0",
    "slideshow": {
     "slide_type": "-"
    }
   },
   "outputs": [],
   "source": [
    "# There is a boolean algebra to combine comparisons (and/or)\n",
    "# Note: parentheses not needed here, but they help readability!\n",
    "\n",
    "\n",
    "x = (1 <= 2) and (1 > 0)\n",
    "y = (1 > 2) or (1 < 3)"
   ]
  },
  {
   "cell_type": "markdown",
   "metadata": {
    "ein.tags": "worksheet-0",
    "slideshow": {
     "slide_type": "slide"
    }
   },
   "source": [
    "## Indentation \n",
    "\n",
    "Most languages don’t care about indentation.\n",
    "\n",
    "Most humans do. We tend to group similar things together. \n",
    "\n",
    "Python encourages “readable” code by enforcing indentation."
   ]
  },
  {
   "cell_type": "markdown",
   "metadata": {
    "ein.tags": "worksheet-0",
    "slideshow": {
     "slide_type": "slide"
    }
   },
   "source": [
    "## Making decisions on the basis of comparisons (\"control flow\"): if \n",
    "\n",
    "The structure is \n",
    "\n",
    "```python\n",
    "if BOOLEAN: \n",
    "    ACTION 1\n",
    "    ACTION 2 # note indentation! \n",
    "else: \n",
    "    ACTION 3```\n",
    "\n",
    "For example: \n",
    "\n",
    "```python\n",
    "gender = \"male\"\n",
    "age = 20 \n",
    "if gender == \"female\":\n",
    "    if age > 18:\n",
    "        print(\"woman\")\n",
    "    else: \n",
    "        print(\"girl\")```\n",
    "\n",
    "What will it print???"
   ]
  },
  {
   "cell_type": "code",
   "execution_count": 14,
   "metadata": {
    "autoscroll": false,
    "ein.hycell": false,
    "ein.tags": "worksheet-0",
    "slideshow": {
     "slide_type": "-"
    }
   },
   "outputs": [],
   "source": [
    "# Practise control flow: \n",
    "# write some code that prints \"high\" if\n",
    "# the number in x is greater than 5, and \"low\"\n",
    "# if the number is less than 5\n",
    "\n",
    "x = 5\n",
    "if x > 5:\n",
    "    print(\"high\")\n",
    "elif x < 5:\n",
    "    print(\"low\")\n",
    "\n",
    "# your code here! Hint: use if/else and print."
   ]
  },
  {
   "cell_type": "markdown",
   "metadata": {
    "ein.tags": "worksheet-0",
    "slideshow": {
     "slide_type": "slide"
    }
   },
   "source": [
    "## Looping \n",
    "\n",
    "\n",
    "\n",
    "\n",
    "\n",
    "<table><tr>\n",
    "<td>  **This is the process of repeating a set of operations *when an index varies within a set*! Within the loop the data used in the operations can change** </td>\n",
    "<td> <img src=\"dullboy.jpg\"> </td>\n",
    "</tr></table>\n",
    "\n",
    "\n",
    "Looping is fundamental in Python! Let's see examples. "
   ]
  },
  {
   "cell_type": "markdown",
   "metadata": {
    "ein.tags": "worksheet-0",
    "slideshow": {
     "slide_type": "slide"
    }
   },
   "source": [
    "## Lists\n",
    "\n",
    "In order to loop, we need something to loop over! In Python, things that can be looped over are called \"iterables\". \n",
    "\n",
    "Whenever you want to loop in Python, think of everything that needs to change inside the loop and try to put that into an iterable. This might be different than you are used to in other languages!\n",
    "\n",
    "One of the simplest iterables in Python is a list. Lists are created with square brackets: \n",
    "\n",
    "```python\n",
    "my_list = [\"She\", \"turned\", \"me\", \"into\", \"a\", \"newt\"]\n",
    "```\n",
    "\n",
    "Here you can see we created a list of strings. We can also create a list of integers: \n",
    "\n",
    "```python\n",
    "ages = [1,5,10]\n",
    "```\n",
    "\n",
    "But Python lists don't have to be homogenous, you can mix types! This is most useful for including the NoneType: \n",
    "\n",
    "```python\n",
    "ages = [1, None, 10]\n",
    "```"
   ]
  },
  {
   "cell_type": "code",
   "execution_count": 15,
   "metadata": {
    "autoscroll": false,
    "ein.hycell": false,
    "ein.tags": "worksheet-0",
    "slideshow": {
     "slide_type": "-"
    }
   },
   "outputs": [
    {
     "name": "stdout",
     "output_type": "stream",
     "text": [
      "This persons age is:  1\n",
      "This persons age is:  2\n",
      "This persons age is:  10\n",
      "This persons age is:  None\n",
      "This persons age is:  100\n",
      "Done\n"
     ]
    }
   ],
   "source": [
    "# A list!\n",
    "ages = [1, 2, 10, None, 100]\n",
    "\n",
    "# A loop! (note the indentation)\n",
    "for x in ages:\n",
    "    print(\"This persons age is: \", x)\n",
    "print(\"Done\")"
   ]
  },
  {
   "cell_type": "code",
   "execution_count": 18,
   "metadata": {
    "autoscroll": false,
    "ein.hycell": false,
    "ein.tags": "worksheet-0",
    "slideshow": {
     "slide_type": "-"
    }
   },
   "outputs": [
    {
     "name": "stdout",
     "output_type": "stream",
     "text": [
      "This persons age is:  1\n",
      "This persons age is:  2\n",
      "This persons age is:  10\n",
      "This persons age is:  100\n",
      "Done\n"
     ]
    }
   ],
   "source": [
    "# Challenge: repeat the above cell, but only print the age if the\n",
    "# age exists (i.e. is not None). HINT: Look back at the cells on\n",
    "# logical operations to see how to check if a value is None in Python\n",
    "\n",
    "for x in ages:\n",
    "    if x is not None:\n",
    "        print(\"This persons age is: \", x)\n",
    "print(\"Done\")\n",
    "\n",
    "# Your code here"
   ]
  },
  {
   "cell_type": "markdown",
   "metadata": {
    "ein.tags": "worksheet-0",
    "slideshow": {
     "slide_type": "slide"
    }
   },
   "source": [
    "## Using Lists\n",
    "\n",
    "\n",
    "Sometimes you want to access individual elements from a list. You can do this using square brackets together with the \"index\" of the element: \n",
    "\n",
    "```python\n",
    "ages = [1,5,10,20,30]\n",
    "ages[0]\n",
    "```\n",
    "\n",
    "The first element is indexed at 0, the second element at 1, etc. \n",
    "\n",
    "You can also access a contiguous range of elements: \n",
    "\n",
    "```python\n",
    "ages[1:3] # second item (index 1) and third item (index 2) only!\n",
    "```\n",
    "\n",
    "You can also use negative indices to access items from the end. For example, the last item: \n",
    "\n",
    "```python\n",
    "ages[-1]\n",
    "```\n",
    "\n",
    "You can concatenate multiple lists together with the +: \n",
    "\n",
    "```python\n",
    "ages + [40, 50, 60]\n",
    "```\n",
    "\n",
    "And you can check for membership with \"in\": \n",
    "\n",
    "```python\n",
    "\"foo\" in [\"foo\", \"bar\", \"baz\"]\n",
    "```"
   ]
  },
  {
   "cell_type": "markdown",
   "metadata": {
    "ein.tags": "worksheet-0",
    "slideshow": {
     "slide_type": "slide"
    }
   },
   "source": [
    "## Operations on Lists\n",
    "\n",
    "In data science, we deal with data! Data, being many datum, are often stored in lists (or list-like structures). \n",
    "\n",
    "There are three main operations we perform with lists: \n",
    "\n",
    "1. Aggregate (reduce)\n",
    "2. Applying a function (map) to each element\n",
    "3. Filter the elements\n",
    "\n",
    "Let's look at examples to understand what these terms mean."
   ]
  },
  {
   "cell_type": "code",
   "execution_count": 19,
   "metadata": {
    "autoscroll": false,
    "ein.hycell": false,
    "ein.tags": "worksheet-0",
    "slideshow": {
     "slide_type": "-"
    }
   },
   "outputs": [
    {
     "data": {
      "text/plain": [
       "148.5"
      ]
     },
     "execution_count": 19,
     "metadata": {},
     "output_type": "execute_result"
    }
   ],
   "source": [
    "# Aggregation: \n",
    "# Summing the numbers in a list: \n",
    "\n",
    "nums = [30,1,4,3,10.5,100]\n",
    "\n",
    "total = 0 \n",
    "\n",
    "for num in nums:\n",
    "    total += num\n",
    "    \n",
    "total"
   ]
  },
  {
   "cell_type": "code",
   "execution_count": 21,
   "metadata": {
    "autoscroll": false,
    "ein.hycell": false,
    "ein.tags": "worksheet-0",
    "slideshow": {
     "slide_type": "-"
    }
   },
   "outputs": [
    {
     "data": {
      "text/plain": [
       "1"
      ]
     },
     "execution_count": 21,
     "metadata": {},
     "output_type": "execute_result"
    }
   ],
   "source": [
    "# Aggregation: \n",
    "# Finding the minimum number in a list of number: \n",
    "\n",
    "nums = [30,1,4,3,10.5,100]\n",
    "\n",
    "min_num = nums[0] \n",
    "\n",
    "for num in nums: \n",
    "    if num < min_num:\n",
    "        min_num = num\n",
    "    \n",
    "min_num"
   ]
  },
  {
   "cell_type": "code",
   "execution_count": 23,
   "metadata": {
    "autoscroll": false,
    "ein.hycell": false,
    "ein.tags": "worksheet-0",
    "slideshow": {
     "slide_type": "-"
    }
   },
   "outputs": [
    {
     "data": {
      "text/plain": [
       "2"
      ]
     },
     "execution_count": 23,
     "metadata": {},
     "output_type": "execute_result"
    }
   ],
   "source": [
    "# Challenge!\n",
    "\n",
    "# Aggregation: \n",
    "# Counting the number of NoneTypes in a list: \n",
    "\n",
    "nums = [30, None, 4, 3, None, 10.5, 100]\n",
    "\n",
    "total = 0 \n",
    "\n",
    "for num in nums:\n",
    "    # Your code here\n",
    "    if num is None:\n",
    "        total += 1\n",
    "total"
   ]
  },
  {
   "cell_type": "code",
   "execution_count": 24,
   "metadata": {
    "autoscroll": false,
    "ein.hycell": false,
    "ein.tags": "worksheet-0",
    "slideshow": {
     "slide_type": "-"
    }
   },
   "outputs": [
    {
     "data": {
      "text/plain": [
       "[900, 1, 16, 9, 110.25, 10000]"
      ]
     },
     "execution_count": 24,
     "metadata": {},
     "output_type": "execute_result"
    }
   ],
   "source": [
    "# Applying a function: \n",
    "# Squaring each number in a list\n",
    "\n",
    "nums = [30,1,4,3,10.5,100]\n",
    "\n",
    "# This is called a \"for comprehension\"\n",
    "# and is the Pythonic way to apply a function to \n",
    "# every element in a list\n",
    "squared_nums = [num**2 for num in nums]\n",
    "    \n",
    "squared_nums"
   ]
  },
  {
   "cell_type": "code",
   "execution_count": 25,
   "metadata": {
    "autoscroll": false,
    "ein.hycell": false,
    "ein.tags": "worksheet-0",
    "slideshow": {
     "slide_type": "-"
    }
   },
   "outputs": [
    {
     "data": {
      "text/plain": [
       "[3, 3, 3, 9]"
      ]
     },
     "execution_count": 25,
     "metadata": {},
     "output_type": "execute_result"
    }
   ],
   "source": [
    "# Applying a function: \n",
    "# Getting the length of each string in a list: \n",
    "\n",
    "names = [\"foo\", \"bar\", \"baz\", \"foobarbaz\"]\n",
    "\n",
    "# Note the \"len\" command to get the length of a string. \n",
    "# Hint: this same command can be used to ge the length of a list!\n",
    "lengths = [len(name) for name in names]\n",
    "\n",
    "lengths"
   ]
  },
  {
   "cell_type": "code",
   "execution_count": 26,
   "metadata": {
    "autoscroll": false,
    "ein.hycell": false,
    "ein.tags": "worksheet-0",
    "slideshow": {
     "slide_type": "-"
    }
   },
   "outputs": [
    {
     "data": {
      "text/plain": [
       "[21, 45, 97]"
      ]
     },
     "execution_count": 26,
     "metadata": {},
     "output_type": "execute_result"
    }
   ],
   "source": [
    "# Filter:\n",
    "# Remove all values less than 18:\n",
    "\n",
    "ages = [0, 3, 21, 45, 10, 97]\n",
    "\n",
    "adults = [a for a in ages if a > 17]\n",
    "\n",
    "adults"
   ]
  },
  {
   "cell_type": "code",
   "execution_count": 27,
   "metadata": {
    "autoscroll": false,
    "ein.hycell": false,
    "ein.tags": "worksheet-0",
    "slideshow": {
     "slide_type": "-"
    }
   },
   "outputs": [
    {
     "data": {
      "text/plain": [
       "['foo', 'bar', 'baz']"
      ]
     },
     "execution_count": 27,
     "metadata": {},
     "output_type": "execute_result"
    }
   ],
   "source": [
    "# Filter:\n",
    "# Remove NoneTypes from a list: \n",
    "\n",
    "names = [\"foo\", \"bar\", None, \"baz\"]\n",
    "\n",
    "only_names = [name for name in names if name is not None]\n",
    "\n",
    "only_names"
   ]
  },
  {
   "cell_type": "markdown",
   "metadata": {
    "ein.tags": "worksheet-0",
    "slideshow": {
     "slide_type": "-"
    }
   },
   "source": [
    "## Tuples\n",
    "\n",
    "Another iterable is called a \"tuple\". Rather than using square brackets, tuples are created with parentheses: \n",
    "\n",
    "```python\n",
    "x = (\"foo\", 1)\n",
    "```\n",
    "\n",
    "But can also be created without any perentheses, implied by the comma: \n",
    "\n",
    "```python\n",
    "x = \"foo\", 1\n",
    "```\n",
    "\n",
    "Elements in the tuple are also accessed via the index (like lists): \n",
    "\n",
    "```python\n",
    "x[0]\n",
    "```\n",
    "\n",
    "Lists can be used most places that a tuple is used, so it can be confusing what the difference is between the two. Besides technical differences that we won't go in to here, the following rules can help you decide when to use a tuple and when to use a list: \n",
    "\n",
    "* LIST: Potentially many elements, unknown number of elements, relatively homogenous elements.\n",
    "* TUPLE: Few elements, fixed number of elements, completely heterogeneous elements.\n",
    "\n",
    "\n",
    "The name comes from here: _double, triple, quadruple, quintuple, sextuple, septuple, octuple._ Which gives a hint that they should be of fixed length! Because of this, we rarely iterate over them in a for loop like lists. \n",
    "\n",
    "Because they have a fixed length, we often use them with destructuring: \n",
    "\n",
    "```python\n",
    "name,num = x\n",
    "```\n",
    "Now the variable \"name\" contains the value \"foo\" and the variable \"num\" contains the value 1. This may not seem particularly useful at the moment, but we will soon see how it can be used. "
   ]
  },
  {
   "cell_type": "code",
   "execution_count": 28,
   "metadata": {
    "autoscroll": false,
    "ein.hycell": false,
    "ein.tags": "worksheet-0",
    "slideshow": {
     "slide_type": "-"
    }
   },
   "outputs": [
    {
     "name": "stdout",
     "output_type": "stream",
     "text": [
      "om has scored 100 points\n",
      "nandan has scored 10000 points\n",
      "arapakis has scored 55 points\n"
     ]
    }
   ],
   "source": [
    "# Destructuring tuples in a for loop:\n",
    "\n",
    "# Note: a list of tuples is a useful data structure \n",
    "# when your data is a set of \"pairs\":\n",
    "\n",
    "scoreboard = [(\"om\", 100), (\"nandan\", 10000), (\"arapakis\", 55)]\n",
    "\n",
    "for name,score in scoreboard: \n",
    "    print(f\"{name} has scored {score} points\") # string interpolation with f\"\"!"
   ]
  },
  {
   "cell_type": "code",
   "execution_count": 37,
   "metadata": {
    "autoscroll": false,
    "ein.hycell": false,
    "ein.tags": "worksheet-0",
    "slideshow": {
     "slide_type": "-"
    }
   },
   "outputs": [
    {
     "data": {
      "text/plain": [
       "'nandan'"
      ]
     },
     "execution_count": 37,
     "metadata": {},
     "output_type": "execute_result"
    }
   ],
   "source": [
    "# Aggregating a list of tuples: \n",
    "\n",
    "# Challenge:\n",
    "# Return the name of the top scoring teacher.\n",
    "# Hint: this is an aggregation!\n",
    "\n",
    "scoreboard = [(\"om\", 100), (\"nandan\", 10000), (\"arapakis\", 55)]\n",
    "\n",
    "# Your code here\n",
    "high_score = [\"\",0]\n",
    "for name, score in scoreboard:\n",
    "    if score > high_score[1]:\n",
    "        high_score = [name, score]\n",
    "high_score[0]"
   ]
  },
  {
   "cell_type": "markdown",
   "metadata": {
    "ein.tags": "worksheet-0",
    "slideshow": {
     "slide_type": "-"
    }
   },
   "source": [
    "## Dictionaries\n",
    "\n",
    "\n",
    "We saw that it can be great to put our data into a tuple if it is easily represented as a pair (or a triple, quadruple, etc.). But sometimes our data is more complicated than that, and we don't want to try and remember the \"order\" of each distinct part (as we need in a tuple). \n",
    "\n",
    "Dictionaries are another basic type in Python. \n",
    "\n",
    "They are \"associative\" data structures. Like the eponymous dictionary, they associate a KEY with a VALUE and are created with the {}: \n",
    "\n",
    "```python\n",
    "teacher = {\"name\": \"nandan\", \"score\": 10000}\n",
    "```\n",
    "\n",
    "You can access the value via the key:\n",
    "\n",
    "```python\n",
    "teacher[\"name\"]\n",
    "```\n",
    "\n",
    "You can also set a value in a similar way: \n",
    "\n",
    "```python\n",
    "teacher[\"name\"] = \"nandan rao\"\n",
    "```\n",
    "\n",
    "Note that each key can ONLY HAVE ONE VALUE. In the above example, I have overwritten the original \"name\" key with a new value."
   ]
  },
  {
   "cell_type": "code",
   "execution_count": 46,
   "metadata": {
    "autoscroll": false,
    "ein.hycell": false,
    "ein.tags": "worksheet-0",
    "slideshow": {
     "slide_type": "-"
    }
   },
   "outputs": [
    {
     "data": {
      "text/plain": [
       "['statistics',\n",
       " 'more statistics',\n",
       " 'even more statistics',\n",
       " 'ice cream',\n",
       " 'R',\n",
       " 'D3']"
      ]
     },
     "execution_count": 46,
     "metadata": {},
     "output_type": "execute_result"
    }
   ],
   "source": [
    "# Challenge: \n",
    "# Collect all the likes of the teachers into one list: \n",
    "# Hint: this is an aggregation!\n",
    "\n",
    "# Notice: What is \"teachers\"? \n",
    "# A list of dictionaries, but each dictionary has three keys \n",
    "# and the \"likes\" key contains a list of strings!\n",
    "teachers = [{\"name\": \"om\", \"score\": 100, \"likes\": [\"statistics\", \"more statistics\", \"even more statistics\"]},\n",
    "            {\"name\": \"nandan\", \"score\": 10000, \"likes\": [\"ice cream\"]},\n",
    "            {\"name\": \"arapakis\", \"score\": 55, \"likes\": [\"R\", \"D3\"]}]\n",
    "\n",
    "# Your code here\n",
    "likes = []\n",
    "for teacher in teachers:\n",
    "    likes += teacher['likes']\n",
    "likes"
   ]
  },
  {
   "cell_type": "markdown",
   "metadata": {
    "ein.tags": "worksheet-0",
    "slideshow": {
     "slide_type": "-"
    }
   },
   "source": [
    "## Advanced operations with strings\n",
    "\n",
    "Strings are actually iterables, just like lists! They can be subset just like lists: \n",
    "\n",
    "```python\n",
    "x = \"my python string\"\n",
    "x[3:9]\n",
    "```\n",
    "\n",
    "You can also turn a string into a list of strings via the \"split\" method: \n",
    "\n",
    "```python\n",
    "x = \"my python string\"\n",
    "y = x.split(\" \")\n",
    "y == [\"my\", \"python\", \"string\"]\n",
    "```\n",
    "\n",
    "And the reverse is also possible via the \"join\" method: \n",
    "\n",
    "```python\n",
    "space = \" \"\n",
    "space.join(y)\n",
    "y == x\n",
    "```\n",
    "\n",
    "\n",
    "You can also make everything lower (or upper!) case, replace certain substrings with other substrings, and check for the existence of a substring with \"in\":  \n",
    "\n",
    "```python\n",
    "z = \"My Python String\"\n",
    "z.lower() == x\n",
    "z.upper() == \"MY PYTHON STRING\"\n",
    "z.replace(\"Python\", \"R\")\n",
    "\"Python\" in z\n",
    "```\n",
    "There are many more easy-to-use, built-in tools for working with text data in Python. You can read more here: https://docs.python.org/3/library/stdtypes.html#string-method"
   ]
  },
  {
   "cell_type": "code",
   "execution_count": 70,
   "metadata": {
    "autoscroll": false,
    "ein.hycell": false,
    "ein.tags": "worksheet-0",
    "slideshow": {
     "slide_type": "-"
    }
   },
   "outputs": [
    {
     "data": {
      "text/plain": [
       "4"
      ]
     },
     "execution_count": 70,
     "metadata": {},
     "output_type": "execute_result"
    }
   ],
   "source": [
    "# Challenge: \n",
    "# Count the instances of \"foo\" in the following text, \n",
    "# ignoring case:\n",
    "\n",
    "x = \"Hello, I would like a foo. Foo went for a walk. Foo bar baz. Baz to the foo.\"\n",
    "\n",
    "# Your code here\n",
    "y = x.lower()\n",
    "z = y.split(\" \")\n",
    "dot = \".\"\n",
    "a = dot.join(z)\n",
    "b = a.split(\".\")\n",
    "foos = 0\n",
    "for word in b:\n",
    "    if word == \"foo\":\n",
    "        foos += 1\n",
    "foos"
   ]
  },
  {
   "cell_type": "markdown",
   "metadata": {
    "ein.tags": "worksheet-0",
    "slideshow": {
     "slide_type": "slide"
    }
   },
   "source": [
    "## Data and operations in a bundle: functions\n",
    "\n",
    "Input data (if any) --> Set of operations --> Output data (if any)\n",
    "\n",
    "```python\n",
    "def name(input):\n",
    "    operations\n",
    "    return output\n",
    "```\n",
    "\n",
    "For example, here is a function that takes a number, and its square:\n",
    "\n",
    "```python\n",
    "def squared(x):\n",
    "    return x**2\n",
    "```\n",
    "\n",
    "Here is a more general function that takes a number and the power, and returns the numbe to that power: \n",
    "\n",
    "```python\n",
    "def power(x, n):\n",
    "    return x**n\n",
    "```\n",
    "\n",
    "Here is a function that returns the minimum and the sum of a list of numbers:\n",
    "\n",
    "```python\n",
    "def minsumfun(x):\n",
    "    minx = x[0] if len(x) > 0 else None\n",
    "    sumx = 0.0  \n",
    "    for y in x: \n",
    "        if y < minx:\n",
    "            minx = y\n",
    "        sumx += y \n",
    "    return minx,sumx # notice multiple outputs, technically a tuple!\n",
    "```\n",
    "\n",
    "Now we can call that function: \n",
    "\n",
    "```python\n",
    "m,s = minsumfun([1,5,0.3,-1]) # Destructuring! Very Pythonic! :)\n",
    "```"
   ]
  },
  {
   "cell_type": "code",
   "execution_count": 29,
   "metadata": {
    "autoscroll": false,
    "ein.hycell": false,
    "ein.tags": "worksheet-0",
    "slideshow": {
     "slide_type": "-"
    }
   },
   "outputs": [
    {
     "data": {
      "text/plain": [
       "[('om', 200), ('nandan', 99987), ('arapakis', 100)]"
      ]
     },
     "execution_count": 29,
     "metadata": {},
     "output_type": "execute_result"
    }
   ],
   "source": [
    "# Functions are very useful for transforming data:\n",
    "# Let's say we want the highest scores for each teacher: \n",
    "\n",
    "teachers = [{\"name\": \"om\", \"scores\": [100, 200, 150]},\n",
    "            {\"name\": \"nandan\", \"scores\": [10000, 9999, 99987 ]},\n",
    "            {\"name\": \"arapakis\", \"scores\": [55, 100, 5]}]\n",
    "\n",
    "\n",
    "\n",
    "# Fill in this function! \n",
    "# It should take a dictionary, as in the list above, \n",
    "# and it should return a 2-tuple with their name and\n",
    "# their highest score: (name, score)\n",
    "def highest_score(person):\n",
    "    # Your code here\n",
    "    high = person['scores'][0]\n",
    "    for score in person['scores']:\n",
    "        if score > high:\n",
    "            high = score\n",
    "    return person['name'],high\n",
    "[highest_score(teacher) for teacher in teachers]\n",
    "# Apply the function to each element in the list \"teachers\": \n",
    "\n",
    "# Your code here"
   ]
  },
  {
   "cell_type": "markdown",
   "metadata": {
    "ein.tags": "worksheet-0",
    "slideshow": {
     "slide_type": "-"
    }
   },
   "source": [
    "\n",
    "### Reading and writing from files\n",
    "\n",
    "We can think of files as data types actually! Python effectively does this, and you should then not be suprised that they have attributes etc. \n",
    "\n",
    "There are two modes, read and write\n",
    "\n",
    "In short, the built-in `open` function creates a Python file object, which serves as a link\n",
    "to a file residing on your machine. After calling `open`, you can transfer strings of data\n",
    "to and from the associated external file by calling the returned file object’s methods.\n",
    "\n",
    "`with` is a file context manager which allows us to wrap file-processing code in a logic layer that\n",
    "ensures that the file will be closed automatically on exit.\n",
    "\n",
    "To understand how Python works with such data, lets work with the text file *textfile.txt*\n"
   ]
  },
  {
   "cell_type": "code",
   "execution_count": 96,
   "metadata": {
    "autoscroll": false,
    "ein.hycell": false,
    "ein.tags": "worksheet-0",
    "slideshow": {
     "slide_type": "-"
    }
   },
   "outputs": [
    {
     "name": "stdout",
     "output_type": "stream",
     "text": [
      "['Why Do People Use Python?\\n', '\\n', 'Because there are many programming languages available today, this is the usual first question of newcomers. Given that there are roughly 1 million Python users out there at the moment, there really is no way to answer this question with complete accuracy; the choice of development tools is sometimes based on unique constraints or personal preference.\\n', '\\n', 'But after teaching Python to roughly 225 groups and over 3,000 students during the last 12 years, some common themes have emerged. The primary factors cited by Python users seem to be these:\\n', '\\n', 'Software quality\\n', 'For many, Python’s focus on readability, coherence, and software quality in general sets it apart from other tools in the scripting world. Python code is designed to be readable, and hence reusable and maintainable—much more so than traditional scripting languages. The uniformity of Python code makes it easy to understand, even if you did not write it. In addition, Python has deep support for more advanced software reuse mechanisms, such as object-oriented programming (OOP).\\n', '\\n', 'Developer productivity\\n', 'Python boosts developer productivity many times beyond compiled or statically\\n', 'typed languages such as C, C++, and Java. Python code is typically one-third to\\n', 'one-fifth the size of equivalent C++ or Java code. That means there is less to type, less to debug, and less to maintain after the fact. Python programs also run immediately, without the lengthy compile and link steps required by some other tools, further boosting programmer speed.\\n', '\\n', 'Program portability\\n', 'Most Python programs run unchanged on all major computer platforms. Porting\\n', 'Python code between Linux and Windows, for example, is usually just a matter of\\n', 'copying a script’s code between machines. Moreover, Python offers multiple options for coding portable graphical user interfaces, database access programs, web-based systems, and more. Even operating system interfaces, including program\\n', 'launches and directory processing, are as portable in Python as they can possibly be.\\n', '\\n', 'Support libraries\\n', 'Python comes with a large collection of prebuilt and portable functionality, known as the standard library. This library supports an array of application-level programming tasks, from text pattern matching to network scripting. In addition, Python can be extended with both homegrown libraries and a vast collection of third-party application support software. Python’s third-party domain offers tools for website construction, numeric programming, serial port access, game development, and much more. The NumPy extension, for instance, has been described as a free and more powerful equivalent to the Matlab numeric programming system.\\n', '\\n', 'Component integration\\n', 'Python scripts can easily communicate with other parts of an application, using a variety of integration mechanisms. Such integrations allow Python to be used as a product customization and extension tool. Today, Python code can invoke C and C++ libraries, can be called from C and C++ programs, can integrate with Java and .NET components, can communicate over frameworks such as COM, can\\n', 'interface with devices over serial ports, and can interact over networks with interfaces like SOAP, XML-RPC, and CORBA. It is not a standalone tool.\\n', '\\n', 'Enjoyment\\n', 'Because of Python’s ease of use and built-in toolset, it can make the act of programming more pleasure than chore. Although this may be an intangible benefit, its effect on productivity is an important asset.\\n', '\\n', 'Of these factors, the first two (quality and productivity) are probably the most compelling benefits to most Python users.\\n']\n",
      "Why Do People Use Python?\n",
      "\n"
     ]
    }
   ],
   "source": [
    "## Lets read the lines in the file\n",
    "with open(\"textfile.txt\",\"r\") as f:\n",
    "    content = f.readlines()\n",
    "print(content)\n",
    "\n",
    "\n",
    "print(content[0])"
   ]
  },
  {
   "cell_type": "code",
   "execution_count": 80,
   "metadata": {
    "autoscroll": false,
    "ein.hycell": false,
    "ein.tags": "worksheet-0",
    "slideshow": {
     "slide_type": "-"
    }
   },
   "outputs": [
    {
     "name": "stdout",
     "output_type": "stream",
     "text": [
      "Why Do People Use Python?\n",
      "\n",
      "\n",
      "\n",
      "Because there are many programming languages available today, this is the usual first question of newcomers. Given that there are roughly 1 million Python users out there at the moment, there really is no way to answer this question with complete accuracy; the choice of development tools is sometimes based on unique constraints or personal preference.\n",
      "\n",
      "\n",
      "\n",
      "But after teaching Python to roughly 225 groups and over 3,000 students during the last 12 years, some common themes have emerged. The primary factors cited by Python users seem to be these:\n",
      "\n",
      "\n",
      "\n",
      "Software quality\n",
      "\n",
      "For many, Python’s focus on readability, coherence, and software quality in general sets it apart from other tools in the scripting world. Python code is designed to be readable, and hence reusable and maintainable—much more so than traditional scripting languages. The uniformity of Python code makes it easy to understand, even if you did not write it. In addition, Python has deep support for more advanced software reuse mechanisms, such as object-oriented programming (OOP).\n",
      "\n",
      "\n",
      "\n",
      "Developer productivity\n",
      "\n",
      "Python boosts developer productivity many times beyond compiled or statically\n",
      "\n",
      "typed languages such as C, C++, and Java. Python code is typically one-third to\n",
      "\n",
      "one-fifth the size of equivalent C++ or Java code. That means there is less to type, less to debug, and less to maintain after the fact. Python programs also run immediately, without the lengthy compile and link steps required by some other tools, further boosting programmer speed.\n",
      "\n",
      "\n",
      "\n",
      "Program portability\n",
      "\n",
      "Most Python programs run unchanged on all major computer platforms. Porting\n",
      "\n",
      "Python code between Linux and Windows, for example, is usually just a matter of\n",
      "\n",
      "copying a script’s code between machines. Moreover, Python offers multiple options for coding portable graphical user interfaces, database access programs, web-based systems, and more. Even operating system interfaces, including program\n",
      "\n",
      "launches and directory processing, are as portable in Python as they can possibly be.\n",
      "\n",
      "\n",
      "\n",
      "Support libraries\n",
      "\n",
      "Python comes with a large collection of prebuilt and portable functionality, known as the standard library. This library supports an array of application-level programming tasks, from text pattern matching to network scripting. In addition, Python can be extended with both homegrown libraries and a vast collection of third-party application support software. Python’s third-party domain offers tools for website construction, numeric programming, serial port access, game development, and much more. The NumPy extension, for instance, has been described as a free and more powerful equivalent to the Matlab numeric programming system.\n",
      "\n",
      "\n",
      "\n",
      "Component integration\n",
      "\n",
      "Python scripts can easily communicate with other parts of an application, using a variety of integration mechanisms. Such integrations allow Python to be used as a product customization and extension tool. Today, Python code can invoke C and C++ libraries, can be called from C and C++ programs, can integrate with Java and .NET components, can communicate over frameworks such as COM, can\n",
      "\n",
      "interface with devices over serial ports, and can interact over networks with interfaces like SOAP, XML-RPC, and CORBA. It is not a standalone tool.\n",
      "\n",
      "\n",
      "\n",
      "Enjoyment\n",
      "\n",
      "Because of Python’s ease of use and built-in toolset, it can make the act of programming more pleasure than chore. Although this may be an intangible benefit, its effect on productivity is an important asset.\n",
      "\n",
      "\n",
      "\n",
      "Of these factors, the first two (quality and productivity) are probably the most compelling benefits to most Python users.\n",
      "\n"
     ]
    }
   ],
   "source": [
    "# Since we have a list, we can resort to the usual tricks, e.g. \n",
    "with open(\"textfile.txt\",\"r\") as f:\n",
    "    linesf = f.readlines()\n",
    "    for line in linesf: \n",
    "        print(line)"
   ]
  },
  {
   "cell_type": "code",
   "execution_count": 79,
   "metadata": {
    "autoscroll": false,
    "ein.hycell": false,
    "ein.tags": "worksheet-0",
    "slideshow": {
     "slide_type": "-"
    }
   },
   "outputs": [
    {
     "name": "stdout",
     "output_type": "stream",
     "text": [
      "Why Do People Use Python?\n",
      "\n"
     ]
    }
   ],
   "source": [
    "# We can also read single lines\n",
    "\n",
    "with open(\"textfile.txt\",\"r\") as f:\n",
    "    line1 = f.readline()\n",
    "    print(line1)"
   ]
  },
  {
   "cell_type": "markdown",
   "metadata": {
    "ein.tags": "worksheet-0",
    "slideshow": {
     "slide_type": "-"
    }
   },
   "source": [
    "## Programming project: basic text analytics\n",
    "\n",
    "Open the file \"textfile.txt\", which has copied a passage from the book Learning Python\". \n",
    "\n",
    "The task is to read the text into Python and do some basic text analysis. In particular, write a Python code that:\n",
    "\n",
    "+ counts how many sentences there are in the text\n",
    "+ counts how many words there are in the text\n",
    "+ finds all the different words in the text and for each computes the frequency of its appearance and stores the output of this analysis in a convenient way so that it is easy later to find out how often a given word appears\n",
    "\n",
    "As a first step, and as a simpler exercise, do the above for a single paragraph of the text. Do this first and if you do not manage to finish the larger project submit this as your solution. \n",
    "\n"
   ]
  },
  {
   "cell_type": "code",
   "execution_count": 38,
   "metadata": {
    "autoscroll": false,
    "ein.hycell": false,
    "ein.tags": "worksheet-0",
    "slideshow": {
     "slide_type": "-"
    }
   },
   "outputs": [
    {
     "data": {
      "text/plain": [
       "29"
      ]
     },
     "execution_count": 38,
     "metadata": {},
     "output_type": "execute_result"
    }
   ],
   "source": [
    "with open(\"textfile.txt\",\"r\") as f:\n",
    "    content = f.readlines()\n",
    "sentences = 0\n",
    "space = \" \"\n",
    "joined = space.join(content)\n",
    "for i in joined:\n",
    "    if i == \".\" or i == \"?\":\n",
    "        sentences += 1\n",
    "sentences"
   ]
  },
  {
   "cell_type": "code",
   "execution_count": 9,
   "metadata": {},
   "outputs": [
    {
     "data": {
      "text/plain": [
       "550"
      ]
     },
     "execution_count": 9,
     "metadata": {},
     "output_type": "execute_result"
    }
   ],
   "source": [
    "words = joined.split(\" \")\n",
    "number = 0\n",
    "for word in words:\n",
    "    if word != \"\\n\":\n",
    "        number += 1\n",
    "number"
   ]
  },
  {
   "cell_type": "code",
   "execution_count": 37,
   "metadata": {},
   "outputs": [
    {
     "data": {
      "text/plain": [
       "{'why': 1,\n",
       " 'do': 1,\n",
       " 'people': 1,\n",
       " 'use': 2,\n",
       " 'python': 20,\n",
       " 'because': 2,\n",
       " 'there': 5,\n",
       " 'are': 4,\n",
       " 'many': 3,\n",
       " 'programming': 6,\n",
       " 'languages': 3,\n",
       " 'available': 1,\n",
       " 'today': 2,\n",
       " 'this': 4,\n",
       " 'is': 9,\n",
       " 'the': 16,\n",
       " 'usual': 1,\n",
       " 'first': 2,\n",
       " 'question': 2,\n",
       " 'of': 14,\n",
       " 'newcomers': 1,\n",
       " 'given': 1,\n",
       " 'that': 2,\n",
       " 'roughly': 2,\n",
       " '1': 1,\n",
       " 'million': 1,\n",
       " 'users': 3,\n",
       " 'out': 1,\n",
       " 'at': 1,\n",
       " 'moment': 1,\n",
       " 'really': 1,\n",
       " 'no': 1,\n",
       " 'way': 1,\n",
       " 'to': 13,\n",
       " 'answer': 1,\n",
       " 'with': 7,\n",
       " 'complete': 1,\n",
       " 'accuracy': 1,\n",
       " 'choice': 1,\n",
       " 'development': 2,\n",
       " 'tools': 4,\n",
       " 'sometimes': 1,\n",
       " 'based': 1,\n",
       " 'on': 4,\n",
       " 'unique': 1,\n",
       " 'constraints': 1,\n",
       " 'or': 3,\n",
       " 'personal': 1,\n",
       " 'preference': 1,\n",
       " 'but': 1,\n",
       " 'after': 2,\n",
       " 'teaching': 1,\n",
       " '225': 1,\n",
       " 'groups': 1,\n",
       " 'and': 22,\n",
       " 'over': 4,\n",
       " '3': 1,\n",
       " '000': 1,\n",
       " 'students': 1,\n",
       " 'during': 1,\n",
       " 'last': 1,\n",
       " '12': 1,\n",
       " 'years': 1,\n",
       " 'some': 2,\n",
       " 'common': 1,\n",
       " 'themes': 1,\n",
       " 'have': 1,\n",
       " 'emerged': 1,\n",
       " 'primary': 1,\n",
       " 'factors': 2,\n",
       " 'cited': 1,\n",
       " 'by': 2,\n",
       " 'seem': 1,\n",
       " 'be': 7,\n",
       " 'these:': 1,\n",
       " 'software': 4,\n",
       " 'quality': 3,\n",
       " 'for': 6,\n",
       " 'python’s': 3,\n",
       " 'focus': 1,\n",
       " 'readability': 1,\n",
       " 'coherence': 1,\n",
       " 'in': 5,\n",
       " 'general': 1,\n",
       " 'sets': 1,\n",
       " 'it': 5,\n",
       " 'apart': 1,\n",
       " 'from': 3,\n",
       " 'other': 3,\n",
       " 'scripting': 3,\n",
       " 'world': 1,\n",
       " 'code': 7,\n",
       " 'designed': 1,\n",
       " 'readable': 1,\n",
       " 'hence': 1,\n",
       " 'reusable': 1,\n",
       " 'maintainable—much': 1,\n",
       " 'more': 6,\n",
       " 'so': 1,\n",
       " 'than': 2,\n",
       " 'traditional': 1,\n",
       " 'uniformity': 1,\n",
       " 'makes': 1,\n",
       " 'easy': 1,\n",
       " 'understand': 1,\n",
       " 'even': 2,\n",
       " 'if': 1,\n",
       " 'you': 1,\n",
       " 'did': 1,\n",
       " 'not': 2,\n",
       " 'write': 1,\n",
       " 'addition': 2,\n",
       " 'has': 2,\n",
       " 'deep': 1,\n",
       " 'support': 3,\n",
       " 'advanced': 1,\n",
       " 'reuse': 1,\n",
       " 'mechanisms': 2,\n",
       " 'such': 4,\n",
       " 'as': 8,\n",
       " 'object-oriented': 1,\n",
       " 'oop': 1,\n",
       " 'developer': 2,\n",
       " 'productivity': 4,\n",
       " 'boosts': 1,\n",
       " 'times': 1,\n",
       " 'beyond': 1,\n",
       " 'compiled': 1,\n",
       " 'statically': 1,\n",
       " 'typed': 1,\n",
       " 'c': 3,\n",
       " 'c++': 4,\n",
       " 'java': 3,\n",
       " 'typically': 1,\n",
       " 'one-third': 1,\n",
       " 'one-fifth': 1,\n",
       " 'size': 1,\n",
       " 'equivalent': 2,\n",
       " 'means': 1,\n",
       " 'less': 3,\n",
       " 'type': 1,\n",
       " 'debug': 1,\n",
       " 'maintain': 1,\n",
       " 'fact': 1,\n",
       " 'programs': 4,\n",
       " 'also': 1,\n",
       " 'run': 2,\n",
       " 'immediately': 1,\n",
       " 'without': 1,\n",
       " 'lengthy': 1,\n",
       " 'compile': 1,\n",
       " 'link': 1,\n",
       " 'steps': 1,\n",
       " 'required': 1,\n",
       " 'further': 1,\n",
       " 'boosting': 1,\n",
       " 'programmer': 1,\n",
       " 'speed': 1,\n",
       " 'program': 2,\n",
       " 'portability': 1,\n",
       " 'most': 3,\n",
       " 'unchanged': 1,\n",
       " 'all': 1,\n",
       " 'major': 1,\n",
       " 'computer': 1,\n",
       " 'platforms': 1,\n",
       " 'porting': 1,\n",
       " 'between': 2,\n",
       " 'linux': 1,\n",
       " 'windows': 1,\n",
       " 'example': 1,\n",
       " 'usually': 1,\n",
       " 'just': 1,\n",
       " 'a': 8,\n",
       " 'matter': 1,\n",
       " 'copying': 1,\n",
       " 'script’s': 1,\n",
       " 'machines': 1,\n",
       " 'moreover': 1,\n",
       " 'offers': 2,\n",
       " 'multiple': 1,\n",
       " 'options': 1,\n",
       " 'coding': 1,\n",
       " 'portable': 3,\n",
       " 'graphical': 1,\n",
       " 'user': 1,\n",
       " 'interfaces': 3,\n",
       " 'database': 1,\n",
       " 'access': 2,\n",
       " 'web-based': 1,\n",
       " 'systems': 1,\n",
       " 'operating': 1,\n",
       " 'system': 2,\n",
       " 'including': 1,\n",
       " 'launches': 1,\n",
       " 'directory': 1,\n",
       " 'processing': 1,\n",
       " 'they': 1,\n",
       " 'can': 10,\n",
       " 'possibly': 1,\n",
       " 'libraries': 3,\n",
       " 'comes': 1,\n",
       " 'large': 1,\n",
       " 'collection': 2,\n",
       " 'prebuilt': 1,\n",
       " 'functionality': 1,\n",
       " 'known': 1,\n",
       " 'standard': 1,\n",
       " 'library': 2,\n",
       " 'supports': 1,\n",
       " 'an': 4,\n",
       " 'array': 1,\n",
       " 'application-level': 1,\n",
       " 'tasks': 1,\n",
       " 'text': 1,\n",
       " 'pattern': 1,\n",
       " 'matching': 1,\n",
       " 'network': 1,\n",
       " 'extended': 1,\n",
       " 'both': 1,\n",
       " 'homegrown': 1,\n",
       " 'vast': 1,\n",
       " 'third-party': 2,\n",
       " 'application': 2,\n",
       " 'domain': 1,\n",
       " 'website': 1,\n",
       " 'construction': 1,\n",
       " 'numeric': 2,\n",
       " 'serial': 2,\n",
       " 'port': 1,\n",
       " 'game': 1,\n",
       " 'much': 1,\n",
       " 'numpy': 1,\n",
       " 'extension': 2,\n",
       " 'instance': 1,\n",
       " 'been': 1,\n",
       " 'described': 1,\n",
       " 'free': 1,\n",
       " 'powerful': 1,\n",
       " 'matlab': 1,\n",
       " 'component': 1,\n",
       " 'integration': 2,\n",
       " 'scripts': 1,\n",
       " 'easily': 1,\n",
       " 'communicate': 2,\n",
       " 'parts': 1,\n",
       " 'using': 1,\n",
       " 'variety': 1,\n",
       " 'integrations': 1,\n",
       " 'allow': 1,\n",
       " 'used': 1,\n",
       " 'product': 1,\n",
       " 'customization': 1,\n",
       " 'tool': 2,\n",
       " 'invoke': 1,\n",
       " 'called': 1,\n",
       " 'integrate': 1,\n",
       " 'net': 1,\n",
       " 'components': 1,\n",
       " 'frameworks': 1,\n",
       " 'com': 1,\n",
       " 'interface': 1,\n",
       " 'devices': 1,\n",
       " 'ports': 1,\n",
       " 'interact': 1,\n",
       " 'networks': 1,\n",
       " 'like': 1,\n",
       " 'soap': 1,\n",
       " 'xml-rpc': 1,\n",
       " 'corba': 1,\n",
       " 'standalone': 1,\n",
       " 'enjoyment': 1,\n",
       " 'ease': 1,\n",
       " 'built-in': 1,\n",
       " 'toolset': 1,\n",
       " 'make': 1,\n",
       " 'act': 1,\n",
       " 'pleasure': 1,\n",
       " 'chore': 1,\n",
       " 'although': 1,\n",
       " 'may': 1,\n",
       " 'intangible': 1,\n",
       " 'benefit': 1,\n",
       " 'its': 1,\n",
       " 'effect': 1,\n",
       " 'important': 1,\n",
       " 'asset': 1,\n",
       " 'these': 1,\n",
       " 'two': 1,\n",
       " 'probably': 1,\n",
       " 'compelling': 1,\n",
       " 'benefits': 1}"
      ]
     },
     "execution_count": 37,
     "metadata": {},
     "output_type": "execute_result"
    }
   ],
   "source": [
    "split_without_n = joined.split(\"\\n\")\n",
    "space = \" \"\n",
    "joined_without_n = space.join(split_without_n)\n",
    "punc = [\",\",\"?\",\"(\",\")\",\";\"]\n",
    "for x in punc:\n",
    "    joined_without_n = joined_without_n.replace(x,\".\")\n",
    "split_dot = joined_without_n.split(\".\")\n",
    "joined_without_dot = space.join (split_dot)\n",
    "joined_without_dot_lower = joined_without_dot.lower()\n",
    "split_without_dot = joined_without_dot_lower.split(\" \")\n",
    "all_words = {}\n",
    "for word in split_without_dot:\n",
    "    if word != \"\" and word not in all_words:\n",
    "        all_words[word] = 1\n",
    "    elif word != \"\" and word in all_words:\n",
    "        all_words[word] += 1\n",
    "all_words"
   ]
  }
 ],
 "metadata": {
  "celltoolbar": "Slideshow",
  "kernelspec": {
   "display_name": "Python 3",
   "language": "python",
   "name": "python3"
  },
  "language_info": {
   "codemirror_mode": {
    "name": "ipython",
    "version": 3
   },
   "file_extension": ".py",
   "mimetype": "text/x-python",
   "name": "python",
   "nbconvert_exporter": "python",
   "pygments_lexer": "ipython3",
   "version": "3.7.3"
  },
  "name": "intro_python.ipynb"
 },
 "nbformat": 4,
 "nbformat_minor": 2
}
